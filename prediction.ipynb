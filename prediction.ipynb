{
 "cells": [
  {
   "cell_type": "code",
   "execution_count": 1,
   "metadata": {},
   "outputs": [],
   "source": [
    "import numpy as np\n",
    "import tensorflow as tf\n",
    "from tensorflow.keras.datasets import imdb #type: ignore\n",
    "from tensorflow.keras.preprocessing import sequence #type:ignore\n",
    "from tensorflow.keras.models import load_model #type: ignore\n",
    "# from tensorflow.keras.layers import Embedding, SimpleRNN, Dense #type:ignore\n"
   ]
  },
  {
   "cell_type": "code",
   "execution_count": 2,
   "metadata": {},
   "outputs": [],
   "source": [
    "# Load the IMDB dataset word index\n",
    "word_index = imdb.get_word_index()\n",
    "reverse_word_index = {value: key for key, value in word_index.items()}\n"
   ]
  },
  {
   "cell_type": "code",
   "execution_count": 3,
   "metadata": {},
   "outputs": [
    {
     "name": "stderr",
     "output_type": "stream",
     "text": [
      "WARNING:absl:Compiled the loaded model, but the compiled metrics have yet to be built. `model.compile_metrics` will be empty until you train or evaluate the model.\n"
     ]
    },
    {
     "data": {
      "text/html": [
       "<pre style=\"white-space:pre;overflow-x:auto;line-height:normal;font-family:Menlo,'DejaVu Sans Mono',consolas,'Courier New',monospace\"><span style=\"font-weight: bold\">Model: \"sequential\"</span>\n",
       "</pre>\n"
      ],
      "text/plain": [
       "\u001b[1mModel: \"sequential\"\u001b[0m\n"
      ]
     },
     "metadata": {},
     "output_type": "display_data"
    },
    {
     "data": {
      "text/html": [
       "<pre style=\"white-space:pre;overflow-x:auto;line-height:normal;font-family:Menlo,'DejaVu Sans Mono',consolas,'Courier New',monospace\">┏━━━━━━━━━━━━━━━━━━━━━━━━━━━━━━━━━┳━━━━━━━━━━━━━━━━━━━━━━━━┳━━━━━━━━━━━━━━━┓\n",
       "┃<span style=\"font-weight: bold\"> Layer (type)                    </span>┃<span style=\"font-weight: bold\"> Output Shape           </span>┃<span style=\"font-weight: bold\">       Param # </span>┃\n",
       "┡━━━━━━━━━━━━━━━━━━━━━━━━━━━━━━━━━╇━━━━━━━━━━━━━━━━━━━━━━━━╇━━━━━━━━━━━━━━━┩\n",
       "│ embedding (<span style=\"color: #0087ff; text-decoration-color: #0087ff\">Embedding</span>)           │ (<span style=\"color: #00af00; text-decoration-color: #00af00\">32</span>, <span style=\"color: #00af00; text-decoration-color: #00af00\">500</span>, <span style=\"color: #00af00; text-decoration-color: #00af00\">128</span>)         │     <span style=\"color: #00af00; text-decoration-color: #00af00\">1,280,000</span> │\n",
       "├─────────────────────────────────┼────────────────────────┼───────────────┤\n",
       "│ simple_rnn (<span style=\"color: #0087ff; text-decoration-color: #0087ff\">SimpleRNN</span>)          │ (<span style=\"color: #00af00; text-decoration-color: #00af00\">32</span>, <span style=\"color: #00af00; text-decoration-color: #00af00\">128</span>)              │        <span style=\"color: #00af00; text-decoration-color: #00af00\">32,896</span> │\n",
       "├─────────────────────────────────┼────────────────────────┼───────────────┤\n",
       "│ dense (<span style=\"color: #0087ff; text-decoration-color: #0087ff\">Dense</span>)                   │ (<span style=\"color: #00af00; text-decoration-color: #00af00\">32</span>, <span style=\"color: #00af00; text-decoration-color: #00af00\">1</span>)                │           <span style=\"color: #00af00; text-decoration-color: #00af00\">129</span> │\n",
       "└─────────────────────────────────┴────────────────────────┴───────────────┘\n",
       "</pre>\n"
      ],
      "text/plain": [
       "┏━━━━━━━━━━━━━━━━━━━━━━━━━━━━━━━━━┳━━━━━━━━━━━━━━━━━━━━━━━━┳━━━━━━━━━━━━━━━┓\n",
       "┃\u001b[1m \u001b[0m\u001b[1mLayer (type)                   \u001b[0m\u001b[1m \u001b[0m┃\u001b[1m \u001b[0m\u001b[1mOutput Shape          \u001b[0m\u001b[1m \u001b[0m┃\u001b[1m \u001b[0m\u001b[1m      Param #\u001b[0m\u001b[1m \u001b[0m┃\n",
       "┡━━━━━━━━━━━━━━━━━━━━━━━━━━━━━━━━━╇━━━━━━━━━━━━━━━━━━━━━━━━╇━━━━━━━━━━━━━━━┩\n",
       "│ embedding (\u001b[38;5;33mEmbedding\u001b[0m)           │ (\u001b[38;5;34m32\u001b[0m, \u001b[38;5;34m500\u001b[0m, \u001b[38;5;34m128\u001b[0m)         │     \u001b[38;5;34m1,280,000\u001b[0m │\n",
       "├─────────────────────────────────┼────────────────────────┼───────────────┤\n",
       "│ simple_rnn (\u001b[38;5;33mSimpleRNN\u001b[0m)          │ (\u001b[38;5;34m32\u001b[0m, \u001b[38;5;34m128\u001b[0m)              │        \u001b[38;5;34m32,896\u001b[0m │\n",
       "├─────────────────────────────────┼────────────────────────┼───────────────┤\n",
       "│ dense (\u001b[38;5;33mDense\u001b[0m)                   │ (\u001b[38;5;34m32\u001b[0m, \u001b[38;5;34m1\u001b[0m)                │           \u001b[38;5;34m129\u001b[0m │\n",
       "└─────────────────────────────────┴────────────────────────┴───────────────┘\n"
      ]
     },
     "metadata": {},
     "output_type": "display_data"
    },
    {
     "data": {
      "text/html": [
       "<pre style=\"white-space:pre;overflow-x:auto;line-height:normal;font-family:Menlo,'DejaVu Sans Mono',consolas,'Courier New',monospace\"><span style=\"font-weight: bold\"> Total params: </span><span style=\"color: #00af00; text-decoration-color: #00af00\">1,313,027</span> (5.01 MB)\n",
       "</pre>\n"
      ],
      "text/plain": [
       "\u001b[1m Total params: \u001b[0m\u001b[38;5;34m1,313,027\u001b[0m (5.01 MB)\n"
      ]
     },
     "metadata": {},
     "output_type": "display_data"
    },
    {
     "data": {
      "text/html": [
       "<pre style=\"white-space:pre;overflow-x:auto;line-height:normal;font-family:Menlo,'DejaVu Sans Mono',consolas,'Courier New',monospace\"><span style=\"font-weight: bold\"> Trainable params: </span><span style=\"color: #00af00; text-decoration-color: #00af00\">1,313,025</span> (5.01 MB)\n",
       "</pre>\n"
      ],
      "text/plain": [
       "\u001b[1m Trainable params: \u001b[0m\u001b[38;5;34m1,313,025\u001b[0m (5.01 MB)\n"
      ]
     },
     "metadata": {},
     "output_type": "display_data"
    },
    {
     "data": {
      "text/html": [
       "<pre style=\"white-space:pre;overflow-x:auto;line-height:normal;font-family:Menlo,'DejaVu Sans Mono',consolas,'Courier New',monospace\"><span style=\"font-weight: bold\"> Non-trainable params: </span><span style=\"color: #00af00; text-decoration-color: #00af00\">0</span> (0.00 B)\n",
       "</pre>\n"
      ],
      "text/plain": [
       "\u001b[1m Non-trainable params: \u001b[0m\u001b[38;5;34m0\u001b[0m (0.00 B)\n"
      ]
     },
     "metadata": {},
     "output_type": "display_data"
    },
    {
     "data": {
      "text/html": [
       "<pre style=\"white-space:pre;overflow-x:auto;line-height:normal;font-family:Menlo,'DejaVu Sans Mono',consolas,'Courier New',monospace\"><span style=\"font-weight: bold\"> Optimizer params: </span><span style=\"color: #00af00; text-decoration-color: #00af00\">2</span> (12.00 B)\n",
       "</pre>\n"
      ],
      "text/plain": [
       "\u001b[1m Optimizer params: \u001b[0m\u001b[38;5;34m2\u001b[0m (12.00 B)\n"
      ]
     },
     "metadata": {},
     "output_type": "display_data"
    }
   ],
   "source": [
    "# Load the model with ReLu activation\n",
    "model = load_model('imdb_Rnn.h5')\n",
    "model.summary()"
   ]
  },
  {
   "cell_type": "code",
   "execution_count": 4,
   "metadata": {},
   "outputs": [
    {
     "data": {
      "text/plain": [
       "[array([[ 0.1260754 ,  0.3289499 , -0.9422073 , ...,  0.08278765,\n",
       "         -0.2584474 ,  0.12871815],\n",
       "        [ 0.02249539, -0.04388659, -0.02123704, ...,  0.00777415,\n",
       "          0.00988651,  0.01633465],\n",
       "        [ 0.03047542, -0.05961026,  0.1186628 , ..., -0.04259157,\n",
       "          0.0521994 , -0.06755941],\n",
       "        ...,\n",
       "        [ 0.01795775,  0.02768824, -0.03558614, ...,  0.08942164,\n",
       "          0.00568823, -0.01628484],\n",
       "        [ 0.03479554,  0.06530518, -0.02079749, ..., -0.00914763,\n",
       "         -0.07513299,  0.0569553 ],\n",
       "        [-0.06075009, -0.03743579,  0.07982539, ..., -0.03195772,\n",
       "          0.11194421, -0.09310932]], dtype=float32),\n",
       " array([[-0.06624846, -0.10301761,  0.09979381, ..., -0.06336544,\n",
       "         -0.09223396, -0.0098503 ],\n",
       "        [-0.13240825,  0.01118198,  0.00458597, ...,  0.01827294,\n",
       "          0.0224783 , -0.02427261],\n",
       "        [-0.07410548,  0.0680344 ,  0.0511617 , ...,  0.02637623,\n",
       "          0.11924855, -0.1143479 ],\n",
       "        ...,\n",
       "        [-0.09615021,  0.02692359,  0.17687292, ..., -0.01467719,\n",
       "         -0.09444824, -0.02830745],\n",
       "        [ 0.18683296, -0.04606346, -0.18052562, ...,  0.14835386,\n",
       "         -0.06513365, -0.03154545],\n",
       "        [-0.0287061 ,  0.00916822, -0.0208848 , ...,  0.08574769,\n",
       "          0.0973158 ,  0.02431126]], dtype=float32),\n",
       " array([[ 0.07702529, -0.19351353, -0.06675413, ..., -0.06410976,\n",
       "         -0.2557819 , -0.04730397],\n",
       "        [-0.07091034,  0.01385698,  0.04317202, ...,  0.02966234,\n",
       "         -0.11079232,  0.12812474],\n",
       "        [-0.00605893,  0.03810059, -0.01468619, ..., -0.09780877,\n",
       "         -0.01013387, -0.17149228],\n",
       "        ...,\n",
       "        [ 0.02190369,  0.02825898,  0.06627975, ..., -0.02053543,\n",
       "          0.11455435, -0.05411527],\n",
       "        [ 0.09384213, -0.02438541,  0.03469911, ..., -0.05207464,\n",
       "         -0.06078871, -0.00471837],\n",
       "        [ 0.04937917, -0.02958385,  0.05565032, ..., -0.02238145,\n",
       "          0.01448984, -0.06586032]], dtype=float32),\n",
       " array([ 0.04996513, -0.02739308,  0.01909791, -0.03334985, -0.0596221 ,\n",
       "        -0.04687545, -0.04712271, -0.02442212, -0.03188412,  0.02667734,\n",
       "        -0.01325369, -0.02001979,  0.01950026,  0.02693631, -0.05286386,\n",
       "        -0.02894373, -0.05042394,  0.01759044,  0.05048313, -0.05515192,\n",
       "        -0.01286467,  0.01421099,  0.04200516,  0.03153158, -0.04076822,\n",
       "        -0.00502085, -0.03006093,  0.02903676, -0.03427255, -0.00193317,\n",
       "         0.04991702, -0.06438696, -0.02121325, -0.03396016, -0.02040507,\n",
       "        -0.00745471, -0.00761378, -0.03075878, -0.02995022, -0.03914306,\n",
       "        -0.00752771,  0.00155234, -0.05428765, -0.04495033, -0.02511188,\n",
       "         0.02742255, -0.00145629, -0.03047485, -0.01156868, -0.03438538,\n",
       "         0.00446299,  0.05564279, -0.020252  , -0.0464629 ,  0.0283231 ,\n",
       "        -0.03161561, -0.03980289,  0.05423146, -0.00283615, -0.06515266,\n",
       "         0.00512219, -0.0591571 ,  0.02556084,  0.05442709,  0.0003449 ,\n",
       "         0.02186836,  0.04750453,  0.00157071,  0.06650886, -0.03202758,\n",
       "        -0.04136631,  0.01453201,  0.00488526,  0.00519763, -0.00151061,\n",
       "        -0.01587891, -0.02715404, -0.03513923, -0.00652986,  0.06379265,\n",
       "         0.0415012 ,  0.03842263, -0.04011121,  0.03632483, -0.0413467 ,\n",
       "         0.04957568, -0.05219125,  0.0134842 , -0.06138546, -0.01581924,\n",
       "        -0.01685575, -0.06427249, -0.0490678 , -0.03631769,  0.01771631,\n",
       "         0.05197183, -0.02333032, -0.0147365 ,  0.05829776, -0.03315346,\n",
       "        -0.05445473,  0.07777011, -0.03616356, -0.00836375,  0.03866661,\n",
       "        -0.04653458,  0.05462817, -0.06682886,  0.03097124, -0.07199612,\n",
       "        -0.02990966, -0.0163982 , -0.01514215,  0.02395856,  0.02486483,\n",
       "         0.0020565 , -0.01568372,  0.0019643 ,  0.00386227, -0.0447304 ,\n",
       "        -0.04943836, -0.01394121,  0.03251672,  0.11558639,  0.05563787,\n",
       "         0.00143119, -0.04151073, -0.01351854], dtype=float32),\n",
       " array([[-0.07110836],\n",
       "        [ 0.12369832],\n",
       "        [-0.2203386 ],\n",
       "        [-0.20672603],\n",
       "        [ 0.06771325],\n",
       "        [-0.25606608],\n",
       "        [ 0.05065437],\n",
       "        [-0.0165302 ],\n",
       "        [-0.1846936 ],\n",
       "        [-0.22151929],\n",
       "        [-0.20333003],\n",
       "        [-0.23842153],\n",
       "        [ 0.01236189],\n",
       "        [ 0.18225904],\n",
       "        [ 0.20384963],\n",
       "        [-0.22914761],\n",
       "        [ 0.0932142 ],\n",
       "        [ 0.0342829 ],\n",
       "        [ 0.12616968],\n",
       "        [-0.00489412],\n",
       "        [-0.12719914],\n",
       "        [-0.17730474],\n",
       "        [ 0.148079  ],\n",
       "        [ 0.1996089 ],\n",
       "        [-0.47749075],\n",
       "        [-0.16542122],\n",
       "        [ 0.01661084],\n",
       "        [ 0.00542303],\n",
       "        [-0.20039289],\n",
       "        [-0.18491952],\n",
       "        [ 0.18965836],\n",
       "        [-0.24444756],\n",
       "        [-0.03403155],\n",
       "        [ 0.09431643],\n",
       "        [ 0.17113973],\n",
       "        [ 0.18099187],\n",
       "        [-0.09060702],\n",
       "        [ 0.42190865],\n",
       "        [-0.21218903],\n",
       "        [-0.03353919],\n",
       "        [-0.08274609],\n",
       "        [-0.05145234],\n",
       "        [ 0.06411845],\n",
       "        [ 0.12044659],\n",
       "        [-0.10946628],\n",
       "        [ 0.15340155],\n",
       "        [-0.05279379],\n",
       "        [-0.05935432],\n",
       "        [-0.17726699],\n",
       "        [ 0.10580771],\n",
       "        [-0.14075525],\n",
       "        [-0.11815862],\n",
       "        [-0.21387726],\n",
       "        [ 0.06962539],\n",
       "        [-0.20814927],\n",
       "        [-0.00479834],\n",
       "        [ 0.18704496],\n",
       "        [ 0.03967358],\n",
       "        [ 0.16650313],\n",
       "        [ 0.00139248],\n",
       "        [ 0.31133515],\n",
       "        [ 0.1830462 ],\n",
       "        [ 0.01142829],\n",
       "        [ 0.07913273],\n",
       "        [-0.14529532],\n",
       "        [ 0.01985955],\n",
       "        [-0.2941245 ],\n",
       "        [ 0.03691261],\n",
       "        [ 0.00053917],\n",
       "        [-0.17977355],\n",
       "        [-0.08115938],\n",
       "        [ 0.01818415],\n",
       "        [-0.19208103],\n",
       "        [ 0.06501418],\n",
       "        [-0.23204708],\n",
       "        [-0.00927551],\n",
       "        [-0.25922135],\n",
       "        [-0.15031388],\n",
       "        [ 0.05473997],\n",
       "        [ 0.11497021],\n",
       "        [ 0.20152807],\n",
       "        [-0.08319566],\n",
       "        [-0.0689151 ],\n",
       "        [ 0.18689212],\n",
       "        [ 0.22449477],\n",
       "        [ 0.1763378 ],\n",
       "        [-0.1839441 ],\n",
       "        [-0.26295966],\n",
       "        [-0.1763266 ],\n",
       "        [-0.22002228],\n",
       "        [-0.23434202],\n",
       "        [-0.22094281],\n",
       "        [-0.49665773],\n",
       "        [-0.18051818],\n",
       "        [-0.25713417],\n",
       "        [ 0.09875316],\n",
       "        [ 0.01351283],\n",
       "        [-0.2440124 ],\n",
       "        [ 0.13542728],\n",
       "        [-0.04375048],\n",
       "        [-0.0753379 ],\n",
       "        [-0.12236939],\n",
       "        [-0.21794334],\n",
       "        [-0.10707699],\n",
       "        [-0.37084383],\n",
       "        [ 0.06314396],\n",
       "        [ 0.20688574],\n",
       "        [-0.16860531],\n",
       "        [ 0.02707185],\n",
       "        [ 0.11154693],\n",
       "        [-0.02734947],\n",
       "        [-0.03976651],\n",
       "        [-0.10418477],\n",
       "        [-0.38310778],\n",
       "        [ 0.1148008 ],\n",
       "        [ 0.07471938],\n",
       "        [-0.16297092],\n",
       "        [-0.10105961],\n",
       "        [ 0.24102773],\n",
       "        [-0.21040823],\n",
       "        [ 0.16016264],\n",
       "        [-0.14187266],\n",
       "        [ 0.1320116 ],\n",
       "        [-0.51899636],\n",
       "        [-0.0307967 ],\n",
       "        [-0.20794135],\n",
       "        [-0.23381972],\n",
       "        [-0.18686198]], dtype=float32),\n",
       " array([-0.6447574], dtype=float32)]"
      ]
     },
     "execution_count": 4,
     "metadata": {},
     "output_type": "execute_result"
    }
   ],
   "source": [
    "model.get_weights()"
   ]
  },
  {
   "cell_type": "code",
   "execution_count": 5,
   "metadata": {},
   "outputs": [],
   "source": [
    "# Step 2:Helper Functions\n",
    "# Function to decode reviews\n",
    "def decode_review(encoded_review):\n",
    "    return ' '.join([reverse_word_index.get(i - 3, '?') for i in encoded_review])\n",
    "\n",
    "# Function to preprocess user input \n",
    "def preprocess_text(text):\n",
    "    words = text.lower().split()\n",
    "    encoded_review = [word_index.get(word, 2) + 3 for word in words]\n",
    "    padded_review = sequence.pad_sequences([encoded_review], maxlen=500)\n",
    "    return padded_review"
   ]
  },
  {
   "cell_type": "code",
   "execution_count": 6,
   "metadata": {},
   "outputs": [],
   "source": [
    "## Prediction function\n",
    "def predict_sentiment(review):\n",
    "    preprocessed_input = preprocess_text(review)\n",
    "    prediction = model.predict(preprocessed_input)\n",
    "    sentiment = 'Positive' if prediction[0][0] > 0.5 else 'Negative'\n",
    "    return sentiment, prediction[0][0]"
   ]
  },
  {
   "cell_type": "code",
   "execution_count": 7,
   "metadata": {},
   "outputs": [
    {
     "name": "stdout",
     "output_type": "stream",
     "text": [
      "\u001b[1m1/1\u001b[0m \u001b[32m━━━━━━━━━━━━━━━━━━━━\u001b[0m\u001b[37m\u001b[0m \u001b[1m0s\u001b[0m 89ms/step\n",
      "Review: This movie was fantastic! The acting was great and the plot was thrilling.\n",
      "Sentiment: Positive\n",
      "Prediction Score: 0.5341382026672363\n"
     ]
    }
   ],
   "source": [
    "# Step 4: User Input and Prediction\n",
    "# Example review for prediction\n",
    "example_review = \"This movie was fantastic! The acting was great and the plot was thrilling.\"\n",
    "\n",
    "sentiment, score =  predict_sentiment(example_review)\n",
    "\n",
    "print(f'Review: {example_review}')\n",
    "print(f'Sentiment: {sentiment}')\n",
    "print(f'Prediction Score: {score}')"
   ]
  },
  {
   "cell_type": "code",
   "execution_count": null,
   "metadata": {},
   "outputs": [],
   "source": []
  },
  {
   "cell_type": "code",
   "execution_count": null,
   "metadata": {},
   "outputs": [],
   "source": []
  },
  {
   "cell_type": "code",
   "execution_count": null,
   "metadata": {},
   "outputs": [],
   "source": []
  },
  {
   "cell_type": "code",
   "execution_count": null,
   "metadata": {},
   "outputs": [],
   "source": []
  },
  {
   "cell_type": "code",
   "execution_count": null,
   "metadata": {},
   "outputs": [],
   "source": []
  },
  {
   "cell_type": "code",
   "execution_count": null,
   "metadata": {},
   "outputs": [],
   "source": []
  },
  {
   "cell_type": "code",
   "execution_count": null,
   "metadata": {},
   "outputs": [],
   "source": []
  },
  {
   "cell_type": "code",
   "execution_count": null,
   "metadata": {},
   "outputs": [],
   "source": []
  }
 ],
 "metadata": {
  "kernelspec": {
   "display_name": "venv",
   "language": "python",
   "name": "python3"
  },
  "language_info": {
   "codemirror_mode": {
    "name": "ipython",
    "version": 3
   },
   "file_extension": ".py",
   "mimetype": "text/x-python",
   "name": "python",
   "nbconvert_exporter": "python",
   "pygments_lexer": "ipython3",
   "version": "3.9.18"
  }
 },
 "nbformat": 4,
 "nbformat_minor": 2
}
